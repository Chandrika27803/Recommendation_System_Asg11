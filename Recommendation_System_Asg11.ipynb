{
  "nbformat": 4,
  "nbformat_minor": 0,
  "metadata": {
    "colab": {
      "provenance": []
    },
    "kernelspec": {
      "name": "python3",
      "display_name": "Python 3"
    },
    "language_info": {
      "name": "python"
    }
  },
  "cells": [
    {
      "cell_type": "code",
      "execution_count": 1,
      "metadata": {
        "id": "U8mdNauJb3u2"
      },
      "outputs": [],
      "source": [
        "import pandas as pd\n",
        "import numpy as np"
      ]
    },
    {
      "cell_type": "code",
      "source": [
        "# Load the dataset\n",
        "anime_data = pd.read_csv(\"anime.csv\")"
      ],
      "metadata": {
        "id": "37ex0aKLdIoY"
      },
      "execution_count": 2,
      "outputs": []
    },
    {
      "cell_type": "code",
      "source": [
        "# Explore the dataset\n",
        "print(\"Dataset Overview:\")\n",
        "print(anime_data.head())"
      ],
      "metadata": {
        "colab": {
          "base_uri": "https://localhost:8080/"
        },
        "id": "riWNdOpTdNn1",
        "outputId": "1735125c-368d-4e00-d975-ce1df9e14755"
      },
      "execution_count": 3,
      "outputs": [
        {
          "output_type": "stream",
          "name": "stdout",
          "text": [
            "Dataset Overview:\n",
            "   anime_id                              name  \\\n",
            "0     32281                    Kimi no Na wa.   \n",
            "1      5114  Fullmetal Alchemist: Brotherhood   \n",
            "2     28977                          Gintama°   \n",
            "3      9253                       Steins;Gate   \n",
            "4      9969                     Gintama&#039;   \n",
            "\n",
            "                                               genre   type episodes  rating  \\\n",
            "0               Drama, Romance, School, Supernatural  Movie        1    9.37   \n",
            "1  Action, Adventure, Drama, Fantasy, Magic, Mili...     TV       64    9.26   \n",
            "2  Action, Comedy, Historical, Parody, Samurai, S...     TV       51    9.25   \n",
            "3                                   Sci-Fi, Thriller     TV       24    9.17   \n",
            "4  Action, Comedy, Historical, Parody, Samurai, S...     TV       51    9.16   \n",
            "\n",
            "   members  \n",
            "0   200630  \n",
            "1   793665  \n",
            "2   114262  \n",
            "3   673572  \n",
            "4   151266  \n"
          ]
        }
      ]
    },
    {
      "cell_type": "code",
      "source": [
        "print(\"\\nDataset Info:\")\n",
        "print(anime_data.info())"
      ],
      "metadata": {
        "colab": {
          "base_uri": "https://localhost:8080/"
        },
        "id": "IkZGRjsldP_8",
        "outputId": "57a981ec-d58b-480a-e52c-92edaee0fde4"
      },
      "execution_count": 4,
      "outputs": [
        {
          "output_type": "stream",
          "name": "stdout",
          "text": [
            "\n",
            "Dataset Info:\n",
            "<class 'pandas.core.frame.DataFrame'>\n",
            "RangeIndex: 12294 entries, 0 to 12293\n",
            "Data columns (total 7 columns):\n",
            " #   Column    Non-Null Count  Dtype  \n",
            "---  ------    --------------  -----  \n",
            " 0   anime_id  12294 non-null  int64  \n",
            " 1   name      12294 non-null  object \n",
            " 2   genre     12232 non-null  object \n",
            " 3   type      12269 non-null  object \n",
            " 4   episodes  12294 non-null  object \n",
            " 5   rating    12064 non-null  float64\n",
            " 6   members   12294 non-null  int64  \n",
            "dtypes: float64(1), int64(2), object(4)\n",
            "memory usage: 672.5+ KB\n",
            "None\n"
          ]
        }
      ]
    },
    {
      "cell_type": "code",
      "source": [
        "# Check for missing values\n",
        "print(\"\\nMissing Values:\")\n",
        "print(anime_data.isnull().sum())"
      ],
      "metadata": {
        "colab": {
          "base_uri": "https://localhost:8080/"
        },
        "id": "fL75RhOidR-c",
        "outputId": "049090e2-9ebc-4c0c-cd7e-16dfef206df1"
      },
      "execution_count": 5,
      "outputs": [
        {
          "output_type": "stream",
          "name": "stdout",
          "text": [
            "\n",
            "Missing Values:\n",
            "anime_id      0\n",
            "name          0\n",
            "genre        62\n",
            "type         25\n",
            "episodes      0\n",
            "rating      230\n",
            "members       0\n",
            "dtype: int64\n"
          ]
        }
      ]
    },
    {
      "cell_type": "code",
      "source": [
        "# Drop rows or fill missing values (handle based on dataset characteristics)\n",
        "anime_data['genre'] = anime_data['genre'].fillna('Unknown')\n",
        "anime_data['rating'] = anime_data['rating'].fillna(anime_data['rating'].mean())\n",
        "anime_data['episodes'] = anime_data['episodes'].replace('Unknown', np.nan).fillna(0).astype(int)"
      ],
      "metadata": {
        "id": "m8S389NpdbkK"
      },
      "execution_count": 6,
      "outputs": []
    },
    {
      "cell_type": "code",
      "source": [
        "# Validate cleaning\n",
        "print(\"\\nCleaned Dataset Info:\")\n",
        "print(anime_data.info())"
      ],
      "metadata": {
        "colab": {
          "base_uri": "https://localhost:8080/"
        },
        "id": "eWWTmoxRdexW",
        "outputId": "c79d6599-ebd4-461c-ee12-d333d1829f65"
      },
      "execution_count": 7,
      "outputs": [
        {
          "output_type": "stream",
          "name": "stdout",
          "text": [
            "\n",
            "Cleaned Dataset Info:\n",
            "<class 'pandas.core.frame.DataFrame'>\n",
            "RangeIndex: 12294 entries, 0 to 12293\n",
            "Data columns (total 7 columns):\n",
            " #   Column    Non-Null Count  Dtype  \n",
            "---  ------    --------------  -----  \n",
            " 0   anime_id  12294 non-null  int64  \n",
            " 1   name      12294 non-null  object \n",
            " 2   genre     12294 non-null  object \n",
            " 3   type      12269 non-null  object \n",
            " 4   episodes  12294 non-null  int64  \n",
            " 5   rating    12294 non-null  float64\n",
            " 6   members   12294 non-null  int64  \n",
            "dtypes: float64(1), int64(3), object(3)\n",
            "memory usage: 672.5+ KB\n",
            "None\n"
          ]
        }
      ]
    },
    {
      "cell_type": "markdown",
      "source": [
        "***Feature Extraction***"
      ],
      "metadata": {
        "id": "VD5DWq2_diqX"
      }
    },
    {
      "cell_type": "code",
      "source": [
        "from sklearn.preprocessing import MultiLabelBinarizer"
      ],
      "metadata": {
        "id": "yP6k2VS3dhd2"
      },
      "execution_count": 8,
      "outputs": []
    },
    {
      "cell_type": "code",
      "source": [
        "# Process the 'genre' column\n",
        "anime_data['genre_list'] = anime_data['genre'].apply(lambda x: x.split(', ') if x != 'Unknown' else [])\n",
        "mlb = MultiLabelBinarizer()\n",
        "genre_encoded = mlb.fit_transform(anime_data['genre_list'])\n",
        "genre_df = pd.DataFrame(genre_encoded, columns=mlb.classes_)\n"
      ],
      "metadata": {
        "id": "jsQuZQx3dngp"
      },
      "execution_count": 9,
      "outputs": []
    },
    {
      "cell_type": "code",
      "source": [
        "# Combine genres and ratings\n",
        "features = pd.concat([genre_df, anime_data['rating']], axis=1)"
      ],
      "metadata": {
        "id": "j3c399mJdpL9"
      },
      "execution_count": 10,
      "outputs": []
    },
    {
      "cell_type": "code",
      "source": [
        "# Normalize ratings\n",
        "from sklearn.preprocessing import MinMaxScaler"
      ],
      "metadata": {
        "id": "ZUu79MtMdq70"
      },
      "execution_count": 11,
      "outputs": []
    },
    {
      "cell_type": "code",
      "source": [
        "scaler = MinMaxScaler()\n",
        "features['rating'] = scaler.fit_transform(features[['rating']])"
      ],
      "metadata": {
        "id": "lSiqLqbGds_K"
      },
      "execution_count": 12,
      "outputs": []
    },
    {
      "cell_type": "code",
      "source": [
        "print(\"\\nFeature Matrix:\")\n",
        "print(features.head())"
      ],
      "metadata": {
        "colab": {
          "base_uri": "https://localhost:8080/"
        },
        "id": "ouMKg_oZdwtx",
        "outputId": "9742354f-f7a1-45cd-941f-4a3478701a04"
      },
      "execution_count": 13,
      "outputs": [
        {
          "output_type": "stream",
          "name": "stdout",
          "text": [
            "\n",
            "Feature Matrix:\n",
            "   Action  Adventure  Cars  Comedy  Dementia  Demons  Drama  Ecchi  Fantasy  \\\n",
            "0       0          0     0       0         0       0      1      0        0   \n",
            "1       1          1     0       0         0       0      1      0        1   \n",
            "2       1          0     0       1         0       0      0      0        0   \n",
            "3       0          0     0       0         0       0      0      0        0   \n",
            "4       1          0     0       1         0       0      0      0        0   \n",
            "\n",
            "   Game  ...  Slice of Life  Space  Sports  Super Power  Supernatural  \\\n",
            "0     0  ...              0      0       0            0             1   \n",
            "1     0  ...              0      0       0            0             0   \n",
            "2     0  ...              0      0       0            0             0   \n",
            "3     0  ...              0      0       0            0             0   \n",
            "4     0  ...              0      0       0            0             0   \n",
            "\n",
            "   Thriller  Vampire  Yaoi  Yuri    rating  \n",
            "0         0        0     0     0  0.924370  \n",
            "1         0        0     0     0  0.911164  \n",
            "2         0        0     0     0  0.909964  \n",
            "3         1        0     0     0  0.900360  \n",
            "4         0        0     0     0  0.899160  \n",
            "\n",
            "[5 rows x 44 columns]\n"
          ]
        }
      ]
    },
    {
      "cell_type": "markdown",
      "source": [
        "***Recommendation System***"
      ],
      "metadata": {
        "id": "01UUnbF_d2BI"
      }
    },
    {
      "cell_type": "code",
      "source": [
        "from sklearn.metrics.pairwise import cosine_similarity"
      ],
      "metadata": {
        "id": "syTzvuDhdyms"
      },
      "execution_count": 14,
      "outputs": []
    },
    {
      "cell_type": "code",
      "source": [
        "# Compute cosine similarity\n",
        "cosine_sim = cosine_similarity(features)"
      ],
      "metadata": {
        "id": "BislnF51d6rL"
      },
      "execution_count": 15,
      "outputs": []
    },
    {
      "cell_type": "code",
      "source": [
        "# Recommendation function\n",
        "def recommend_anime(anime_title, top_n=10, threshold=0.5):\n",
        "    # Find the index of the anime\n",
        "    anime_idx = anime_data[anime_data['name'] == anime_title].index[0]\n",
        "\n",
        "    # Get similarity scores\n",
        "    sim_scores = list(enumerate(cosine_sim[anime_idx]))\n",
        "\n",
        "    # Sort by similarity score\n",
        "    sim_scores = sorted(sim_scores, key=lambda x: x[1], reverse=True)\n",
        "\n",
        "    # Filter based on threshold and exclude the target anime itself\n",
        "    sim_scores = [score for score in sim_scores if score[1] >= threshold and score[0] != anime_idx]\n",
        "\n",
        "    # Get top_n recommendations\n",
        "    top_anime_idx = [score[0] for score in sim_scores[:top_n]]\n",
        "\n",
        "    # Return the recommended anime titles\n",
        "    return anime_data.iloc[top_anime_idx][['name', 'genre', 'rating']]"
      ],
      "metadata": {
        "id": "FjrmAAped8dT"
      },
      "execution_count": 16,
      "outputs": []
    },
    {
      "cell_type": "code",
      "source": [
        "# Example usage\n",
        "recommended_anime = recommend_anime('Naruto', top_n=5, threshold=0.7)\n",
        "print(\"\\nRecommended Anime:\")\n",
        "print(recommended_anime)"
      ],
      "metadata": {
        "colab": {
          "base_uri": "https://localhost:8080/"
        },
        "id": "XU3C5z9Gd_kv",
        "outputId": "896a67cb-7fd9-4697-84e4-f1d59ed32961"
      },
      "execution_count": 17,
      "outputs": [
        {
          "output_type": "stream",
          "name": "stdout",
          "text": [
            "\n",
            "Recommended Anime:\n",
            "                                                   name  \\\n",
            "615                                  Naruto: Shippuuden   \n",
            "1103  Boruto: Naruto the Movie - Naruto ga Hokage ni...   \n",
            "486                            Boruto: Naruto the Movie   \n",
            "1343                                        Naruto x UT   \n",
            "1472        Naruto: Shippuuden Movie 4 - The Lost Tower   \n",
            "\n",
            "                                                  genre  rating  \n",
            "615   Action, Comedy, Martial Arts, Shounen, Super P...    7.94  \n",
            "1103  Action, Comedy, Martial Arts, Shounen, Super P...    7.68  \n",
            "486   Action, Comedy, Martial Arts, Shounen, Super P...    8.03  \n",
            "1343  Action, Comedy, Martial Arts, Shounen, Super P...    7.58  \n",
            "1472  Action, Comedy, Martial Arts, Shounen, Super P...    7.53  \n"
          ]
        }
      ]
    },
    {
      "cell_type": "code",
      "source": [
        "# Generate synthetic user-anime interaction data (if not available in the dataset)\n",
        "# Here, we assume user preferences are given (binary relevance: 1 if liked, 0 otherwise)\n",
        "user_anime_interactions = pd.DataFrame({\n",
        "    'user_id': np.random.randint(1, 1000, len(anime_data)),\n",
        "    'anime_id': anime_data.index,\n",
        "    'liked': np.random.choice([0, 1], len(anime_data))  # Simulated ground truth\n",
        "})"
      ],
      "metadata": {
        "id": "D7b_1MR1eCCH"
      },
      "execution_count": 18,
      "outputs": []
    },
    {
      "cell_type": "code",
      "source": [
        "# Import train_test_split from sklearn.model_selection\n",
        "from sklearn.model_selection import train_test_split\n",
        "# Split into training and testing sets\n",
        "train_data, test_data = train_test_split(user_anime_interactions, test_size=0.2, random_state=42)\n"
      ],
      "metadata": {
        "id": "2d1LJPgNerod"
      },
      "execution_count": 19,
      "outputs": []
    },
    {
      "cell_type": "code",
      "source": [
        "def evaluate_recommendation():\n",
        "    y_true, y_pred = [], []\n",
        "    # Get the anime names from the original anime_data DataFrame using anime_id\n",
        "    for anime_id in test_data['anime_id']:\n",
        "        title = anime_data.loc[anime_id, 'name']  # Access 'name' from anime_data\n",
        "        recommendations = recommend_anime(title, top_n=3)\n",
        "        if isinstance(recommendations, pd.DataFrame):\n",
        "            y_true.append(1)\n",
        "            y_pred.append(1)\n",
        "        else:\n",
        "            y_true.append(1)\n",
        "            y_pred.append(0)\n",
        "\n",
        "    precision = precision_score(y_true, y_pred, zero_division=1)\n",
        "    recall = recall_score(y_true, y_pred, zero_division=1)\n",
        "    f1 = f1_score(y_true, y_pred, zero_division=1)\n",
        "    return precision, recall, f1\n",
        "\n",
        "precision, recall, f1 = evaluate_recommendation()\n",
        "print(\"Precision:\", precision)\n",
        "print(\"Recall:\", recall)\n",
        "print(\"F1 Score:\", f1)"
      ],
      "metadata": {
        "id": "uO49xy-9hr62",
        "colab": {
          "base_uri": "https://localhost:8080/"
        },
        "outputId": "2ee7a999-98d8-451c-bede-d63de1e36935"
      },
      "execution_count": 22,
      "outputs": [
        {
          "output_type": "stream",
          "name": "stdout",
          "text": [
            "Precision: 1.0\n",
            "Recall: 1.0\n",
            "F1 Score: 1.0\n"
          ]
        }
      ]
    },
    {
      "cell_type": "markdown",
      "source": [
        "# INTERVIEW QUESTIONS"
      ],
      "metadata": {
        "id": "onUOdOJ10TNB"
      }
    },
    {
      "cell_type": "markdown",
      "source": [
        "1. Can you explain the difference between user-based and item-based collaborative filtering?\n",
        "\n",
        "# User-Based Collaborative Filtering\n",
        "\n",
        "Focus: Finds similar users based on their preferences or behavior.\n",
        "\n",
        "How It Works: Recommends items that similar users have liked or purchased.\n",
        "\n",
        "Example: If User A and User B have similar tastes, items liked by User B are recommended to User A.\n",
        "\n",
        "# Item-Based Collaborative Filtering\n",
        "\n",
        "Focus: Finds similar items based on user interactions.\n",
        "\n",
        "How It Works: Recommends items that are frequently liked or purchased together by users.\n",
        "\n",
        "Example: If Item X and Item Y are often bought together, users who like Item X are recommended Item Y.\n",
        "\n",
        "# Key Difference\n",
        "\n",
        "User-Based: Relies on user-to-user similarity.\n",
        "\n",
        "Item-Based: Relies on item-to-item similarity.\n"
      ],
      "metadata": {
        "id": "p6X2gM-L0Xaz"
      }
    },
    {
      "cell_type": "markdown",
      "source": [
        "2. What is collaborative filtering, and how does it work?\n",
        "\n",
        "*Collaborative Filtering (CF) *\n",
        "Collaborative Filtering predicts user preferences by leveraging the behavior of other users. It works by analyzing a user-item interaction matrix to find:\n",
        "\n",
        "User-Based CF: Recommends items liked by similar users.\n",
        "\n",
        "Item-Based CF: Recommends items similar to those a user liked.\n",
        "\n",
        "*Types*\n",
        "\n",
        "Memory-Based: Uses similarity measures (e.g., cosine similarity).\n",
        "\n",
        "Model-Based: Uses machine learning models (e.g., SVD) for scalability.\n",
        "\n",
        "*Advantages*\n",
        "\n",
        "No need for item metadata.\n",
        "\n",
        "Adapts to user behavior dynamically.\n",
        "\n",
        "*Challenges*\n",
        "\n",
        "Struggles with new users/items (cold start).\n",
        "\n",
        "Handles sparse data poorly.\n",
        "\n",
        "Computationally expensive for large datasets.\n",
        "\n",
        "# Collaborative Filtering is widely used in recommendation systems like Netflix and Amazon.\n",
        "\n"
      ],
      "metadata": {
        "id": "m3z_jzuU1A4m"
      }
    },
    {
      "cell_type": "code",
      "source": [],
      "metadata": {
        "id": "eNmUxdsUzvb1"
      },
      "execution_count": null,
      "outputs": []
    }
  ]
}